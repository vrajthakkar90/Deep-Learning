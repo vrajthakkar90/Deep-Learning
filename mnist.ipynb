{
  "cells": [
    {
      "cell_type": "code",
      "execution_count": null,
      "metadata": {
        "id": "Z4DFbalzuw7Y"
      },
      "outputs": [],
      "source": [
        "# load mnist dataset\n",
        "from keras.datasets import mnist\n",
        "from keras.utils import to_categorical"
      ]
    },
    {
      "cell_type": "code",
      "execution_count": null,
      "metadata": {
        "id": "W0dZch3tuw7d"
      },
      "outputs": [],
      "source": [
        "(X_train, y_train), (X_test, y_test) = mnist.load_data()"
      ]
    },
    {
      "cell_type": "code",
      "execution_count": null,
      "metadata": {
        "id": "XJASwBcLuw7e",
        "outputId": "c967868b-6632-4d37-f657-ad918ec8925b"
      },
      "outputs": [
        {
          "name": "stdout",
          "output_type": "stream",
          "text": [
            "(60000, 28, 28)\n",
            "(10000, 28, 28)\n"
          ]
        }
      ],
      "source": [
        "print(X_train.shape)\n",
        "print(X_test.shape)"
      ]
    },
    {
      "cell_type": "code",
      "execution_count": null,
      "metadata": {
        "id": "KW1_6HTJuw7j",
        "outputId": "bee67bec-a92a-4a3c-ff25-59d1d76af945"
      },
      "outputs": [
        {
          "name": "stdout",
          "output_type": "stream",
          "text": [
            "(60000, 784)\n"
          ]
        }
      ],
      "source": [
        "# flatten the input data into 28 x 28 = 784 vector\n",
        "X_train = X_train.reshape((X_train.shape[0], 784))\n",
        "X_test = X_test.reshape((X_test.shape[0], 784))\n",
        "print(X_train.shape)"
      ]
    },
    {
      "cell_type": "code",
      "execution_count": null,
      "metadata": {
        "id": "E7ZdZxoCuw7k"
      },
      "outputs": [],
      "source": [
        "# one hot encode target values\n",
        "y_train = to_categorical(y_train)\n",
        "y_test = to_categorical(y_test)"
      ]
    },
    {
      "cell_type": "code",
      "execution_count": null,
      "metadata": {
        "id": "vNbloZlEuw7l",
        "outputId": "78d9a63f-fd46-47a7-af40-fcdc6a078983"
      },
      "outputs": [
        {
          "name": "stdout",
          "output_type": "stream",
          "text": [
            "[0. 0. 0. 0. 0. 1. 0. 0. 0. 0.]\n"
          ]
        }
      ],
      "source": [
        "print(y_train[0])"
      ]
    },
    {
      "cell_type": "code",
      "execution_count": null,
      "metadata": {
        "id": "CJLHXFhuuw7m"
      },
      "outputs": [],
      "source": [
        "import tensorflow as tf"
      ]
    },
    {
      "cell_type": "markdown",
      "metadata": {
        "id": "XR2D3D4suw7n"
      },
      "source": [
        "Training a neural network using ANN with 2 hidden layers"
      ]
    },
    {
      "cell_type": "code",
      "execution_count": null,
      "metadata": {
        "id": "vqe2oR1nuw7p"
      },
      "outputs": [],
      "source": [
        "input = tf.keras.Input(shape=(784, ))\n",
        "x = tf.keras.layers.Dense(128, activation='relu')(input)\n",
        "z = tf.keras.layers.Dense(64, activation='relu')(x)\n",
        "y = tf.keras.layers.Dense(10, activation='softmax')(x)\n",
        "model = tf.keras.Model(inputs=input, outputs=y)"
      ]
    },
    {
      "cell_type": "markdown",
      "metadata": {
        "id": "cYipwKp8uw7r"
      },
      "source": [
        "Training with Adam optimizers"
      ]
    },
    {
      "cell_type": "code",
      "execution_count": null,
      "metadata": {
        "id": "SYW9L0pXuw7s",
        "outputId": "aef8d601-e528-4199-f7b0-b23958f91fb5"
      },
      "outputs": [
        {
          "name": "stdout",
          "output_type": "stream",
          "text": [
            "Epoch 1/10\n",
            "1875/1875 [==============================] - 3s 1ms/step - loss: 2.6352 - accuracy: 0.8692 - val_loss: 0.4818 - val_accuracy: 0.8961\n",
            "Epoch 2/10\n",
            "1875/1875 [==============================] - 3s 1ms/step - loss: 0.3557 - accuracy: 0.9165 - val_loss: 0.3268 - val_accuracy: 0.9196\n",
            "Epoch 3/10\n",
            "1875/1875 [==============================] - 2s 1ms/step - loss: 0.2744 - accuracy: 0.9318 - val_loss: 0.3613 - val_accuracy: 0.9236\n",
            "Epoch 4/10\n",
            "1875/1875 [==============================] - 3s 1ms/step - loss: 0.2440 - accuracy: 0.9385 - val_loss: 0.2907 - val_accuracy: 0.9319\n",
            "Epoch 5/10\n",
            "1875/1875 [==============================] - 2s 1ms/step - loss: 0.2224 - accuracy: 0.9442 - val_loss: 0.2650 - val_accuracy: 0.9365\n",
            "Epoch 6/10\n",
            "1875/1875 [==============================] - 3s 1ms/step - loss: 0.2173 - accuracy: 0.9463 - val_loss: 0.2661 - val_accuracy: 0.9437\n",
            "Epoch 7/10\n",
            "1875/1875 [==============================] - 3s 1ms/step - loss: 0.2000 - accuracy: 0.9513 - val_loss: 0.2779 - val_accuracy: 0.9411\n",
            "Epoch 8/10\n",
            "1875/1875 [==============================] - 3s 1ms/step - loss: 0.1993 - accuracy: 0.9510 - val_loss: 0.2916 - val_accuracy: 0.9434\n",
            "Epoch 9/10\n",
            "1875/1875 [==============================] - 3s 1ms/step - loss: 0.2002 - accuracy: 0.9525 - val_loss: 0.3229 - val_accuracy: 0.9379\n",
            "Epoch 10/10\n",
            "1875/1875 [==============================] - 3s 1ms/step - loss: 0.1816 - accuracy: 0.9550 - val_loss: 0.2764 - val_accuracy: 0.9437\n"
          ]
        },
        {
          "data": {
            "text/plain": [
              "<keras.src.callbacks.History at 0x225c1f85290>"
            ]
          },
          "execution_count": 14,
          "metadata": {},
          "output_type": "execute_result"
        }
      ],
      "source": [
        "# train the model\n",
        "loss_fn = tf.keras.losses.CategoricalCrossentropy()\n",
        "model.compile(optimizer='Adam', loss=loss_fn, metrics=['accuracy'])\n",
        "model.fit(X_train, y_train, epochs=10, validation_data=(X_test, y_test))"
      ]
    },
    {
      "cell_type": "code",
      "execution_count": null,
      "metadata": {
        "id": "YcbC9fJ8uw7t",
        "outputId": "39fc128d-c9e1-4fa6-e15f-efddcb5ddb59"
      },
      "outputs": [
        {
          "name": "stdout",
          "output_type": "stream",
          "text": [
            "Epoch 1/30\n",
            "1/1 [==============================] - 1s 565ms/step - loss: 2.1448 - accuracy: 0.2239 - val_loss: 2.1447 - val_accuracy: 0.2293\n",
            "Epoch 2/30\n",
            "1/1 [==============================] - 0s 184ms/step - loss: 2.1233 - accuracy: 0.2314 - val_loss: 2.1259 - val_accuracy: 0.2367\n",
            "Epoch 3/30\n",
            "1/1 [==============================] - 0s 197ms/step - loss: 2.1060 - accuracy: 0.2374 - val_loss: 2.1127 - val_accuracy: 0.2405\n",
            "Epoch 4/30\n",
            "1/1 [==============================] - 0s 164ms/step - loss: 2.0936 - accuracy: 0.2418 - val_loss: 2.1026 - val_accuracy: 0.2446\n",
            "Epoch 5/30\n",
            "1/1 [==============================] - 0s 167ms/step - loss: 2.0815 - accuracy: 0.2465 - val_loss: 2.0922 - val_accuracy: 0.2528\n",
            "Epoch 6/30\n",
            "1/1 [==============================] - 0s 167ms/step - loss: 2.0686 - accuracy: 0.2560 - val_loss: 2.0820 - val_accuracy: 0.2601\n",
            "Epoch 7/30\n",
            "1/1 [==============================] - 0s 168ms/step - loss: 2.0547 - accuracy: 0.2642 - val_loss: 2.0699 - val_accuracy: 0.2661\n",
            "Epoch 8/30\n",
            "1/1 [==============================] - 0s 167ms/step - loss: 2.0397 - accuracy: 0.2722 - val_loss: 2.0563 - val_accuracy: 0.2771\n",
            "Epoch 9/30\n",
            "1/1 [==============================] - 0s 172ms/step - loss: 2.0231 - accuracy: 0.2839 - val_loss: 2.0399 - val_accuracy: 0.2868\n",
            "Epoch 10/30\n",
            "1/1 [==============================] - 0s 170ms/step - loss: 2.0047 - accuracy: 0.2934 - val_loss: 2.0225 - val_accuracy: 0.2978\n",
            "Epoch 11/30\n",
            "1/1 [==============================] - 0s 177ms/step - loss: 1.9855 - accuracy: 0.3032 - val_loss: 2.0047 - val_accuracy: 0.3070\n",
            "Epoch 12/30\n",
            "1/1 [==============================] - 0s 179ms/step - loss: 1.9664 - accuracy: 0.3133 - val_loss: 1.9858 - val_accuracy: 0.3191\n",
            "Epoch 13/30\n",
            "1/1 [==============================] - 0s 187ms/step - loss: 1.9463 - accuracy: 0.3236 - val_loss: 1.9671 - val_accuracy: 0.3293\n",
            "Epoch 14/30\n",
            "1/1 [==============================] - 0s 190ms/step - loss: 1.9251 - accuracy: 0.3352 - val_loss: 1.9482 - val_accuracy: 0.3404\n",
            "Epoch 15/30\n",
            "1/1 [==============================] - 0s 219ms/step - loss: 1.9025 - accuracy: 0.3466 - val_loss: 1.9286 - val_accuracy: 0.3521\n",
            "Epoch 16/30\n",
            "1/1 [==============================] - 0s 168ms/step - loss: 1.8806 - accuracy: 0.3561 - val_loss: 1.9078 - val_accuracy: 0.3607\n",
            "Epoch 17/30\n",
            "1/1 [==============================] - 0s 188ms/step - loss: 1.8595 - accuracy: 0.3643 - val_loss: 1.8870 - val_accuracy: 0.3703\n",
            "Epoch 18/30\n",
            "1/1 [==============================] - 0s 185ms/step - loss: 1.8392 - accuracy: 0.3710 - val_loss: 1.8653 - val_accuracy: 0.3784\n",
            "Epoch 19/30\n",
            "1/1 [==============================] - 0s 177ms/step - loss: 1.8192 - accuracy: 0.3772 - val_loss: 1.8418 - val_accuracy: 0.3842\n",
            "Epoch 20/30\n",
            "1/1 [==============================] - 0s 169ms/step - loss: 1.7983 - accuracy: 0.3828 - val_loss: 1.8174 - val_accuracy: 0.3918\n",
            "Epoch 21/30\n",
            "1/1 [==============================] - 0s 166ms/step - loss: 1.7769 - accuracy: 0.3891 - val_loss: 1.7928 - val_accuracy: 0.4208\n",
            "Epoch 22/30\n",
            "1/1 [==============================] - 0s 174ms/step - loss: 1.7542 - accuracy: 0.4157 - val_loss: 1.7671 - val_accuracy: 0.4289\n",
            "Epoch 23/30\n",
            "1/1 [==============================] - 0s 201ms/step - loss: 1.7308 - accuracy: 0.4238 - val_loss: 1.7432 - val_accuracy: 0.4356\n",
            "Epoch 24/30\n",
            "1/1 [==============================] - 0s 182ms/step - loss: 1.7068 - accuracy: 0.4317 - val_loss: 1.7188 - val_accuracy: 0.4441\n",
            "Epoch 25/30\n",
            "1/1 [==============================] - 0s 169ms/step - loss: 1.6832 - accuracy: 0.4393 - val_loss: 1.6938 - val_accuracy: 0.4610\n",
            "Epoch 26/30\n",
            "1/1 [==============================] - 0s 160ms/step - loss: 1.6602 - accuracy: 0.4570 - val_loss: 1.6717 - val_accuracy: 0.4707\n",
            "Epoch 27/30\n",
            "1/1 [==============================] - 0s 160ms/step - loss: 1.6382 - accuracy: 0.4652 - val_loss: 1.6507 - val_accuracy: 0.4781\n",
            "Epoch 28/30\n",
            "1/1 [==============================] - 0s 160ms/step - loss: 1.6159 - accuracy: 0.4742 - val_loss: 1.6287 - val_accuracy: 0.4857\n",
            "Epoch 29/30\n",
            "1/1 [==============================] - 0s 160ms/step - loss: 1.5928 - accuracy: 0.4843 - val_loss: 1.6064 - val_accuracy: 0.4955\n",
            "Epoch 30/30\n",
            "1/1 [==============================] - 0s 161ms/step - loss: 1.5708 - accuracy: 0.4940 - val_loss: 1.5852 - val_accuracy: 0.5045\n"
          ]
        },
        {
          "data": {
            "text/plain": [
              "<keras.src.callbacks.History at 0x1c456c177d0>"
            ]
          },
          "execution_count": 12,
          "metadata": {},
          "output_type": "execute_result"
        }
      ],
      "source": [
        "# train the model\n",
        "loss_fn = tf.keras.losses.CategoricalCrossentropy()\n",
        "model.compile(optimizer='SGD', loss=loss_fn, metrics=['accuracy'])\n",
        "model.fit(X_train, y_train, epochs=30, batch_size=60000, validation_data=(X_test, y_test))"
      ]
    },
    {
      "cell_type": "markdown",
      "metadata": {
        "id": "qj6GBm-Ruw7u"
      },
      "source": [
        "Node dropout in ANN on MNIST."
      ]
    },
    {
      "cell_type": "code",
      "execution_count": null,
      "metadata": {
        "id": "QohkZt1Juw7u"
      },
      "outputs": [],
      "source": [
        "input = tf.keras.Input(shape=(784,))\n",
        "x = tf.keras.layers.Dense(128, activation='relu')(input)\n",
        "x = tf.keras.layers.Dropout(0.2)(x)  # Add dropout with a dropout rate of 0.2\n",
        "z = tf.keras.layers.Dense(64, activation='relu')(x)\n",
        "z = tf.keras.layers.Dropout(0.2)(z)  # Add dropout with a dropout rate of 0.2\n",
        "y = tf.keras.layers.Dense(10, activation='softmax')(z)\n",
        "model = tf.keras.Model(inputs=input, outputs=y)"
      ]
    },
    {
      "cell_type": "code",
      "execution_count": null,
      "metadata": {
        "id": "aE7Xpe58uw7v",
        "outputId": "397db1f0-292d-4eba-e58b-d62186bab1ab"
      },
      "outputs": [
        {
          "data": {
            "image/png": "[encoded data removed]",
            "text/plain": [
              "<IPython.core.display.Image object>"
            ]
          },
          "execution_count": 20,
          "metadata": {},
          "output_type": "execute_result"
        }
      ],
      "source": [
        "tf.keras.utils.plot_model(model)"
      ]
    },
    {
      "cell_type": "code",
      "execution_count": null,
      "metadata": {
        "id": "U3Q2dfzeuw7v",
        "outputId": "04ae9481-1b99-4804-c0cc-c20aa3e8c0a1"
      },
      "outputs": [
        {
          "name": "stdout",
          "output_type": "stream",
          "text": [
            "Epoch 1/10\n",
            "1875/1875 [==============================] - 4s 2ms/step - loss: 2.6482 - accuracy: 0.6531 - val_loss: 0.4969 - val_accuracy: 0.8655\n",
            "Epoch 2/10\n",
            "1875/1875 [==============================] - 3s 2ms/step - loss: 0.5939 - accuracy: 0.8329 - val_loss: 0.3083 - val_accuracy: 0.9177\n",
            "Epoch 3/10\n",
            "1875/1875 [==============================] - 3s 2ms/step - loss: 0.4167 - accuracy: 0.8821 - val_loss: 0.2277 - val_accuracy: 0.9390\n",
            "Epoch 4/10\n",
            "1875/1875 [==============================] - 3s 2ms/step - loss: 0.3573 - accuracy: 0.9001 - val_loss: 0.2292 - val_accuracy: 0.9412\n",
            "Epoch 5/10\n",
            "1875/1875 [==============================] - 3s 2ms/step - loss: 0.3061 - accuracy: 0.9158 - val_loss: 0.1971 - val_accuracy: 0.9520\n",
            "Epoch 6/10\n",
            "1875/1875 [==============================] - 3s 2ms/step - loss: 0.2792 - accuracy: 0.9237 - val_loss: 0.1844 - val_accuracy: 0.9541\n",
            "Epoch 7/10\n",
            "1875/1875 [==============================] - 3s 1ms/step - loss: 0.2627 - accuracy: 0.9299 - val_loss: 0.1788 - val_accuracy: 0.9542\n",
            "Epoch 8/10\n",
            "1875/1875 [==============================] - 3s 1ms/step - loss: 0.2435 - accuracy: 0.9343 - val_loss: 0.1770 - val_accuracy: 0.9553\n",
            "Epoch 9/10\n",
            "1875/1875 [==============================] - 3s 1ms/step - loss: 0.2235 - accuracy: 0.9385 - val_loss: 0.1729 - val_accuracy: 0.9585\n",
            "Epoch 10/10\n",
            "1875/1875 [==============================] - 3s 1ms/step - loss: 0.2296 - accuracy: 0.9388 - val_loss: 0.1697 - val_accuracy: 0.9585\n"
          ]
        },
        {
          "data": {
            "text/plain": [
              "<keras.src.callbacks.History at 0x225c43a2cd0>"
            ]
          },
          "execution_count": 17,
          "metadata": {},
          "output_type": "execute_result"
        }
      ],
      "source": [
        "# train the model\n",
        "loss_fn = tf.keras.losses.CategoricalCrossentropy()\n",
        "model.compile(optimizer='Adam', loss=loss_fn, metrics=['accuracy'])\n",
        "model.fit(X_train, y_train, epochs=10, validation_data=(X_test, y_test))"
      ]
    }
  ],
  "metadata": {
    "kernelspec": {
      "display_name": "Python 3",
      "language": "python",
      "name": "python3"
    },
    "language_info": {
      "codemirror_mode": {
        "name": "ipython",
        "version": 3
      },
      "file_extension": ".py",
      "mimetype": "text/x-python",
      "name": "python",
      "nbconvert_exporter": "python",
      "pygments_lexer": "ipython3",
      "version": "3.11.9"
    },
    "colab": {
      "provenance": [],
      "toc_visible": true
    }
  },
  "nbformat": 4,
  "nbformat_minor": 0
}